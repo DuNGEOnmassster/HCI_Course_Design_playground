{
 "cells": [
  {
   "cell_type": "markdown",
   "metadata": {},
   "source": [
    "https://www.kaggle.com/code/pullurilikith/handwritten-text-recognizer"
   ]
  },
  {
   "cell_type": "code",
   "execution_count": null,
   "metadata": {
    "execution": {
     "iopub.execute_input": "2023-01-06T07:49:43.374125Z",
     "iopub.status.busy": "2023-01-06T07:49:43.373773Z",
     "iopub.status.idle": "2023-01-06T07:49:54.525278Z",
     "shell.execute_reply": "2023-01-06T07:49:54.524405Z",
     "shell.execute_reply.started": "2023-01-06T07:49:43.374047Z"
    }
   },
   "outputs": [],
   "source": [
    "!pip install imutils"
   ]
  },
  {
   "cell_type": "code",
   "execution_count": 2,
   "metadata": {
    "_cell_guid": "79c7e3d0-c299-4dcb-8224-4455121ee9b0",
    "_uuid": "d629ff2d2480ee46fbb7e2d37f6b5fab8052498a",
    "execution": {
     "iopub.execute_input": "2023-01-06T07:49:54.528712Z",
     "iopub.status.busy": "2023-01-06T07:49:54.528327Z",
     "iopub.status.idle": "2023-01-06T07:50:00.904733Z",
     "shell.execute_reply": "2023-01-06T07:50:00.903791Z",
     "shell.execute_reply.started": "2023-01-06T07:49:54.528672Z"
    }
   },
   "outputs": [],
   "source": [
    "import numpy as np\n",
    "import pandas as pd\n",
    "from keras.preprocessing.image import ImageDataGenerator\n",
    "import os\n",
    "import random \n",
    "import cv2\n",
    "import imutils\n",
    "import random\n",
    "import matplotlib.pyplot as plt\n",
    "import seaborn as sns\n",
    "from sklearn.preprocessing import LabelBinarizer\n",
    "from keras.utils import np_utils\n",
    "from keras.models import Sequential\n",
    "from keras import optimizers\n",
    "from sklearn.preprocessing import LabelBinarizer\n",
    "from keras import backend as K\n",
    "from keras.layers import Dense, Activation, Flatten, Dense,MaxPooling2D, Dropout\n",
    "from keras.layers import Conv2D, MaxPooling2D, BatchNormalization"
   ]
  },
  {
   "cell_type": "markdown",
   "metadata": {},
   "source": []
  },
  {
   "cell_type": "code",
   "execution_count": 4,
   "metadata": {
    "execution": {
     "iopub.execute_input": "2023-01-06T07:54:15.768107Z",
     "iopub.status.busy": "2023-01-06T07:54:15.767844Z",
     "iopub.status.idle": "2023-01-06T08:09:14.321657Z",
     "shell.execute_reply": "2023-01-06T08:09:14.320828Z",
     "shell.execute_reply.started": "2023-01-06T07:54:15.768079Z"
    }
   },
   "outputs": [],
   "source": [
    "dir = \"../input/handwritten-characters/Train/\"\n",
    "train_data = []\n",
    "img_size = 32\n",
    "non_chars = [\"#\",\"$\",\"&\",\"@\"]\n",
    "for i in os.listdir(dir):\n",
    "    if i in non_chars:\n",
    "        continue\n",
    "    count = 0\n",
    "    sub_directory = os.path.join(dir,i)\n",
    "    for j in os.listdir(sub_directory):\n",
    "        count+=1\n",
    "        if count > 4000:\n",
    "            break\n",
    "        img = cv2.imread(os.path.join(sub_directory,j),0)\n",
    "        img = cv2.resize(img,(img_size,img_size))\n",
    "        train_data.append([img,i])"
   ]
  },
  {
   "cell_type": "code",
   "execution_count": 6,
   "metadata": {
    "execution": {
     "iopub.execute_input": "2023-01-06T08:15:54.070259Z",
     "iopub.status.busy": "2023-01-06T08:15:54.069971Z",
     "iopub.status.idle": "2023-01-06T08:15:54.075083Z",
     "shell.execute_reply": "2023-01-06T08:15:54.074264Z",
     "shell.execute_reply.started": "2023-01-06T08:15:54.070214Z"
    }
   },
   "outputs": [
    {
     "data": {
      "text/plain": [
       "140000"
      ]
     },
     "execution_count": 6,
     "metadata": {},
     "output_type": "execute_result"
    }
   ],
   "source": [
    "len(train_data)"
   ]
  },
  {
   "cell_type": "code",
   "execution_count": 7,
   "metadata": {
    "execution": {
     "iopub.execute_input": "2023-01-06T08:15:57.566087Z",
     "iopub.status.busy": "2023-01-06T08:15:57.565348Z",
     "iopub.status.idle": "2023-01-06T08:17:41.996249Z",
     "shell.execute_reply": "2023-01-06T08:17:41.995501Z",
     "shell.execute_reply.started": "2023-01-06T08:15:57.566050Z"
    }
   },
   "outputs": [],
   "source": [
    "val_dir = \"../input/handwritten-characters/Validation/\"\n",
    "val_data = []\n",
    "img_size = 32\n",
    "for i in os.listdir(val_dir):\n",
    "    if i in non_chars:\n",
    "        continue\n",
    "    count = 0\n",
    "    sub_directory = os.path.join(val_dir,i)\n",
    "    for j in os.listdir(sub_directory):\n",
    "        count+=1\n",
    "        if count > 1000:\n",
    "            break\n",
    "        img = cv2.imread(os.path.join(sub_directory,j),0)\n",
    "        img = cv2.resize(img,(img_size,img_size))\n",
    "        val_data.append([img,i])"
   ]
  },
  {
   "cell_type": "code",
   "execution_count": 8,
   "metadata": {
    "execution": {
     "iopub.execute_input": "2023-01-06T08:21:22.615841Z",
     "iopub.status.busy": "2023-01-06T08:21:22.615581Z",
     "iopub.status.idle": "2023-01-06T08:21:22.620722Z",
     "shell.execute_reply": "2023-01-06T08:21:22.619916Z",
     "shell.execute_reply.started": "2023-01-06T08:21:22.615813Z"
    }
   },
   "outputs": [
    {
     "data": {
      "text/plain": [
       "15209"
      ]
     },
     "execution_count": 8,
     "metadata": {},
     "output_type": "execute_result"
    }
   ],
   "source": [
    "len(val_data)"
   ]
  },
  {
   "cell_type": "code",
   "execution_count": 9,
   "metadata": {
    "execution": {
     "iopub.execute_input": "2023-01-06T08:21:25.203801Z",
     "iopub.status.busy": "2023-01-06T08:21:25.203389Z",
     "iopub.status.idle": "2023-01-06T08:21:25.339873Z",
     "shell.execute_reply": "2023-01-06T08:21:25.339171Z",
     "shell.execute_reply.started": "2023-01-06T08:21:25.203767Z"
    }
   },
   "outputs": [],
   "source": [
    "random.shuffle(train_data)\n",
    "random.shuffle(val_data)"
   ]
  },
  {
   "cell_type": "code",
   "execution_count": 10,
   "metadata": {
    "execution": {
     "iopub.execute_input": "2023-01-06T08:21:28.013859Z",
     "iopub.status.busy": "2023-01-06T08:21:28.013217Z",
     "iopub.status.idle": "2023-01-06T08:21:28.099774Z",
     "shell.execute_reply": "2023-01-06T08:21:28.099027Z",
     "shell.execute_reply.started": "2023-01-06T08:21:28.013819Z"
    }
   },
   "outputs": [],
   "source": [
    "train_X = []\n",
    "train_Y = []\n",
    "for features,label in train_data:\n",
    "    train_X.append(features)\n",
    "    train_Y.append(label)"
   ]
  },
  {
   "cell_type": "code",
   "execution_count": 11,
   "metadata": {
    "execution": {
     "iopub.execute_input": "2023-01-06T08:21:30.421209Z",
     "iopub.status.busy": "2023-01-06T08:21:30.420817Z",
     "iopub.status.idle": "2023-01-06T08:21:30.433350Z",
     "shell.execute_reply": "2023-01-06T08:21:30.432556Z",
     "shell.execute_reply.started": "2023-01-06T08:21:30.421176Z"
    }
   },
   "outputs": [],
   "source": [
    "val_X = []\n",
    "val_Y = []\n",
    "for features,label in val_data:\n",
    "    val_X.append(features)\n",
    "    val_Y.append(label)"
   ]
  },
  {
   "cell_type": "code",
   "execution_count": 12,
   "metadata": {
    "execution": {
     "iopub.execute_input": "2023-01-06T08:21:33.766405Z",
     "iopub.status.busy": "2023-01-06T08:21:33.766124Z",
     "iopub.status.idle": "2023-01-06T08:21:34.043062Z",
     "shell.execute_reply": "2023-01-06T08:21:34.042283Z",
     "shell.execute_reply.started": "2023-01-06T08:21:33.766355Z"
    }
   },
   "outputs": [],
   "source": [
    "LB = LabelBinarizer()\n",
    "train_Y = LB.fit_transform(train_Y)\n",
    "val_Y = LB.fit_transform(val_Y)"
   ]
  },
  {
   "cell_type": "code",
   "execution_count": 13,
   "metadata": {
    "execution": {
     "iopub.execute_input": "2023-01-06T08:21:37.272271Z",
     "iopub.status.busy": "2023-01-06T08:21:37.271476Z",
     "iopub.status.idle": "2023-01-06T08:21:37.817407Z",
     "shell.execute_reply": "2023-01-06T08:21:37.816668Z",
     "shell.execute_reply.started": "2023-01-06T08:21:37.272228Z"
    }
   },
   "outputs": [],
   "source": [
    "train_X = np.array(train_X)/255.0\n",
    "train_X = train_X.reshape(-1,32,32,1)\n",
    "train_Y = np.array(train_Y)"
   ]
  },
  {
   "cell_type": "code",
   "execution_count": 14,
   "metadata": {
    "execution": {
     "iopub.execute_input": "2023-01-06T08:21:40.497600Z",
     "iopub.status.busy": "2023-01-06T08:21:40.496944Z",
     "iopub.status.idle": "2023-01-06T08:21:40.573081Z",
     "shell.execute_reply": "2023-01-06T08:21:40.572347Z",
     "shell.execute_reply.started": "2023-01-06T08:21:40.497554Z"
    }
   },
   "outputs": [],
   "source": [
    "val_X = np.array(val_X)/255.0\n",
    "val_X = val_X.reshape(-1,32,32,1)\n",
    "val_Y = np.array(val_Y)"
   ]
  },
  {
   "cell_type": "code",
   "execution_count": 15,
   "metadata": {
    "execution": {
     "iopub.execute_input": "2023-01-06T08:21:42.576899Z",
     "iopub.status.busy": "2023-01-06T08:21:42.576070Z",
     "iopub.status.idle": "2023-01-06T08:21:42.582151Z",
     "shell.execute_reply": "2023-01-06T08:21:42.581434Z",
     "shell.execute_reply.started": "2023-01-06T08:21:42.576855Z"
    }
   },
   "outputs": [
    {
     "name": "stdout",
     "output_type": "stream",
     "text": [
      "(140000, 32, 32, 1) (15209, 32, 32, 1)\n"
     ]
    }
   ],
   "source": [
    "print(train_X.shape,val_X.shape)"
   ]
  },
  {
   "cell_type": "code",
   "execution_count": 16,
   "metadata": {
    "execution": {
     "iopub.execute_input": "2023-01-06T08:21:44.382215Z",
     "iopub.status.busy": "2023-01-06T08:21:44.381950Z",
     "iopub.status.idle": "2023-01-06T08:21:44.387299Z",
     "shell.execute_reply": "2023-01-06T08:21:44.386248Z",
     "shell.execute_reply.started": "2023-01-06T08:21:44.382186Z"
    }
   },
   "outputs": [
    {
     "name": "stdout",
     "output_type": "stream",
     "text": [
      "(140000, 35) (15209, 35)\n"
     ]
    }
   ],
   "source": [
    "print(train_Y.shape,val_Y.shape)"
   ]
  },
  {
   "cell_type": "code",
   "execution_count": 17,
   "metadata": {
    "execution": {
     "iopub.execute_input": "2023-01-06T08:21:46.961774Z",
     "iopub.status.busy": "2023-01-06T08:21:46.961512Z",
     "iopub.status.idle": "2023-01-06T08:21:49.870304Z",
     "shell.execute_reply": "2023-01-06T08:21:49.868627Z",
     "shell.execute_reply.started": "2023-01-06T08:21:46.961746Z"
    }
   },
   "outputs": [
    {
     "name": "stderr",
     "output_type": "stream",
     "text": [
      "2023-01-06 08:21:47.058887: I tensorflow/stream_executor/cuda/cuda_gpu_executor.cc:937] successful NUMA node read from SysFS had negative value (-1), but there must be at least one NUMA node, so returning NUMA node zero\n",
      "2023-01-06 08:21:47.159352: I tensorflow/stream_executor/cuda/cuda_gpu_executor.cc:937] successful NUMA node read from SysFS had negative value (-1), but there must be at least one NUMA node, so returning NUMA node zero\n",
      "2023-01-06 08:21:47.160185: I tensorflow/stream_executor/cuda/cuda_gpu_executor.cc:937] successful NUMA node read from SysFS had negative value (-1), but there must be at least one NUMA node, so returning NUMA node zero\n",
      "2023-01-06 08:21:47.161648: I tensorflow/core/platform/cpu_feature_guard.cc:142] This TensorFlow binary is optimized with oneAPI Deep Neural Network Library (oneDNN) to use the following CPU instructions in performance-critical operations:  AVX2 AVX512F FMA\n",
      "To enable them in other operations, rebuild TensorFlow with the appropriate compiler flags.\n",
      "2023-01-06 08:21:47.162833: I tensorflow/stream_executor/cuda/cuda_gpu_executor.cc:937] successful NUMA node read from SysFS had negative value (-1), but there must be at least one NUMA node, so returning NUMA node zero\n",
      "2023-01-06 08:21:47.163559: I tensorflow/stream_executor/cuda/cuda_gpu_executor.cc:937] successful NUMA node read from SysFS had negative value (-1), but there must be at least one NUMA node, so returning NUMA node zero\n",
      "2023-01-06 08:21:47.164187: I tensorflow/stream_executor/cuda/cuda_gpu_executor.cc:937] successful NUMA node read from SysFS had negative value (-1), but there must be at least one NUMA node, so returning NUMA node zero\n",
      "2023-01-06 08:21:49.423990: I tensorflow/stream_executor/cuda/cuda_gpu_executor.cc:937] successful NUMA node read from SysFS had negative value (-1), but there must be at least one NUMA node, so returning NUMA node zero\n",
      "2023-01-06 08:21:49.424834: I tensorflow/stream_executor/cuda/cuda_gpu_executor.cc:937] successful NUMA node read from SysFS had negative value (-1), but there must be at least one NUMA node, so returning NUMA node zero\n",
      "2023-01-06 08:21:49.425508: I tensorflow/stream_executor/cuda/cuda_gpu_executor.cc:937] successful NUMA node read from SysFS had negative value (-1), but there must be at least one NUMA node, so returning NUMA node zero\n",
      "2023-01-06 08:21:49.426118: I tensorflow/core/common_runtime/gpu/gpu_device.cc:1510] Created device /job:localhost/replica:0/task:0/device:GPU:0 with 15403 MB memory:  -> device: 0, name: Tesla P100-PCIE-16GB, pci bus id: 0000:00:04.0, compute capability: 6.0\n"
     ]
    }
   ],
   "source": [
    "model = Sequential()\n",
    "\n",
    "model.add(Conv2D(32, (3, 3), padding = \"same\", activation='relu', input_shape=(32,32,1)))\n",
    "model.add(MaxPooling2D(pool_size=(2,2)))\n",
    "\n",
    "model.add(Conv2D(64, (3, 3), activation='relu'))\n",
    "model.add(MaxPooling2D(pool_size=(2,2)))\n",
    "\n",
    "model.add(Conv2D(128, (3, 3), activation='relu'))\n",
    "model.add(MaxPooling2D(pool_size=(2,2)))\n",
    "\n",
    "model.add(Dropout(0.25))\n",
    " \n",
    "model.add(Flatten())\n",
    "model.add(Dense(128, activation='relu'))\n",
    "model.add(Dropout(0.2))\n",
    "model.add(Dense(35, activation='softmax'))"
   ]
  },
  {
   "cell_type": "code",
   "execution_count": 18,
   "metadata": {
    "execution": {
     "iopub.execute_input": "2023-01-06T08:22:09.381855Z",
     "iopub.status.busy": "2023-01-06T08:22:09.381377Z",
     "iopub.status.idle": "2023-01-06T08:22:09.392788Z",
     "shell.execute_reply": "2023-01-06T08:22:09.391994Z",
     "shell.execute_reply.started": "2023-01-06T08:22:09.381820Z"
    }
   },
   "outputs": [
    {
     "name": "stdout",
     "output_type": "stream",
     "text": [
      "Model: \"sequential\"\n",
      "_________________________________________________________________\n",
      "Layer (type)                 Output Shape              Param #   \n",
      "=================================================================\n",
      "conv2d (Conv2D)              (None, 32, 32, 32)        320       \n",
      "_________________________________________________________________\n",
      "max_pooling2d (MaxPooling2D) (None, 16, 16, 32)        0         \n",
      "_________________________________________________________________\n",
      "conv2d_1 (Conv2D)            (None, 14, 14, 64)        18496     \n",
      "_________________________________________________________________\n",
      "max_pooling2d_1 (MaxPooling2 (None, 7, 7, 64)          0         \n",
      "_________________________________________________________________\n",
      "conv2d_2 (Conv2D)            (None, 5, 5, 128)         73856     \n",
      "_________________________________________________________________\n",
      "max_pooling2d_2 (MaxPooling2 (None, 2, 2, 128)         0         \n",
      "_________________________________________________________________\n",
      "dropout (Dropout)            (None, 2, 2, 128)         0         \n",
      "_________________________________________________________________\n",
      "flatten (Flatten)            (None, 512)               0         \n",
      "_________________________________________________________________\n",
      "dense (Dense)                (None, 128)               65664     \n",
      "_________________________________________________________________\n",
      "dropout_1 (Dropout)          (None, 128)               0         \n",
      "_________________________________________________________________\n",
      "dense_1 (Dense)              (None, 35)                4515      \n",
      "=================================================================\n",
      "Total params: 162,851\n",
      "Trainable params: 162,851\n",
      "Non-trainable params: 0\n",
      "_________________________________________________________________\n"
     ]
    }
   ],
   "source": [
    "model.summary()"
   ]
  },
  {
   "cell_type": "code",
   "execution_count": 19,
   "metadata": {
    "execution": {
     "iopub.execute_input": "2023-01-06T08:22:12.248177Z",
     "iopub.status.busy": "2023-01-06T08:22:12.247885Z",
     "iopub.status.idle": "2023-01-06T08:22:12.265257Z",
     "shell.execute_reply": "2023-01-06T08:22:12.264614Z",
     "shell.execute_reply.started": "2023-01-06T08:22:12.248144Z"
    }
   },
   "outputs": [],
   "source": [
    "model.compile(loss='categorical_crossentropy', optimizer=\"adam\",metrics=['accuracy'])"
   ]
  },
  {
   "cell_type": "code",
   "execution_count": 20,
   "metadata": {
    "execution": {
     "iopub.execute_input": "2023-01-06T08:22:14.557996Z",
     "iopub.status.busy": "2023-01-06T08:22:14.557426Z",
     "iopub.status.idle": "2023-01-06T08:29:51.289588Z",
     "shell.execute_reply": "2023-01-06T08:29:51.288844Z",
     "shell.execute_reply.started": "2023-01-06T08:22:14.557958Z"
    }
   },
   "outputs": [
    {
     "name": "stderr",
     "output_type": "stream",
     "text": [
      "2023-01-06 08:22:16.088407: I tensorflow/compiler/mlir/mlir_graph_optimization_pass.cc:185] None of the MLIR Optimization Passes are enabled (registered 2)\n"
     ]
    },
    {
     "name": "stdout",
     "output_type": "stream",
     "text": [
      "Epoch 1/50\n"
     ]
    },
    {
     "name": "stderr",
     "output_type": "stream",
     "text": [
      "2023-01-06 08:22:17.531880: I tensorflow/stream_executor/cuda/cuda_dnn.cc:369] Loaded cuDNN version 8005\n"
     ]
    },
    {
     "name": "stdout",
     "output_type": "stream",
     "text": [
      "2188/2188 [==============================] - 17s 4ms/step - loss: 0.6720 - accuracy: 0.7871 - val_loss: 0.3213 - val_accuracy: 0.8983\n",
      "Epoch 2/50\n",
      "2188/2188 [==============================] - 9s 4ms/step - loss: 0.3558 - accuracy: 0.8817 - val_loss: 0.2628 - val_accuracy: 0.9141\n",
      "Epoch 3/50\n",
      "2188/2188 [==============================] - 9s 4ms/step - loss: 0.3087 - accuracy: 0.8951 - val_loss: 0.2560 - val_accuracy: 0.9167\n",
      "Epoch 4/50\n",
      "2188/2188 [==============================] - 9s 4ms/step - loss: 0.2820 - accuracy: 0.9035 - val_loss: 0.2291 - val_accuracy: 0.9248\n",
      "Epoch 5/50\n",
      "2188/2188 [==============================] - 9s 4ms/step - loss: 0.2618 - accuracy: 0.9092 - val_loss: 0.2499 - val_accuracy: 0.9131\n",
      "Epoch 6/50\n",
      "2188/2188 [==============================] - 9s 4ms/step - loss: 0.2498 - accuracy: 0.9131 - val_loss: 0.2406 - val_accuracy: 0.9085\n",
      "Epoch 7/50\n",
      "2188/2188 [==============================] - 9s 4ms/step - loss: 0.2374 - accuracy: 0.9173 - val_loss: 0.2455 - val_accuracy: 0.9069\n",
      "Epoch 8/50\n",
      "2188/2188 [==============================] - 9s 4ms/step - loss: 0.2290 - accuracy: 0.9189 - val_loss: 0.2204 - val_accuracy: 0.9222\n",
      "Epoch 9/50\n",
      "2188/2188 [==============================] - 9s 4ms/step - loss: 0.2219 - accuracy: 0.9212 - val_loss: 0.2218 - val_accuracy: 0.9250\n",
      "Epoch 10/50\n",
      "2188/2188 [==============================] - 9s 4ms/step - loss: 0.2140 - accuracy: 0.9237 - val_loss: 0.2569 - val_accuracy: 0.8950\n",
      "Epoch 11/50\n",
      "2188/2188 [==============================] - 9s 4ms/step - loss: 0.2082 - accuracy: 0.9246 - val_loss: 0.2463 - val_accuracy: 0.9044\n",
      "Epoch 12/50\n",
      "2188/2188 [==============================] - 9s 4ms/step - loss: 0.2029 - accuracy: 0.9267 - val_loss: 0.2319 - val_accuracy: 0.9216\n",
      "Epoch 13/50\n",
      "2188/2188 [==============================] - 9s 4ms/step - loss: 0.1987 - accuracy: 0.9281 - val_loss: 0.2403 - val_accuracy: 0.9170\n",
      "Epoch 14/50\n",
      "2188/2188 [==============================] - 9s 4ms/step - loss: 0.1945 - accuracy: 0.9288 - val_loss: 0.2433 - val_accuracy: 0.9067\n",
      "Epoch 15/50\n",
      "2188/2188 [==============================] - 9s 4ms/step - loss: 0.1879 - accuracy: 0.9305 - val_loss: 0.2263 - val_accuracy: 0.9215\n",
      "Epoch 16/50\n",
      "2188/2188 [==============================] - 9s 4ms/step - loss: 0.1866 - accuracy: 0.9319 - val_loss: 0.2268 - val_accuracy: 0.9214\n",
      "Epoch 17/50\n",
      "2188/2188 [==============================] - 9s 4ms/step - loss: 0.1811 - accuracy: 0.9327 - val_loss: 0.2253 - val_accuracy: 0.9203\n",
      "Epoch 18/50\n",
      "2188/2188 [==============================] - 9s 4ms/step - loss: 0.1802 - accuracy: 0.9336 - val_loss: 0.2311 - val_accuracy: 0.9181\n",
      "Epoch 19/50\n",
      "2188/2188 [==============================] - 9s 4ms/step - loss: 0.1765 - accuracy: 0.9344 - val_loss: 0.2168 - val_accuracy: 0.9262\n",
      "Epoch 20/50\n",
      "2188/2188 [==============================] - 9s 4ms/step - loss: 0.1740 - accuracy: 0.9355 - val_loss: 0.2362 - val_accuracy: 0.9195\n",
      "Epoch 21/50\n",
      "2188/2188 [==============================] - 9s 4ms/step - loss: 0.1724 - accuracy: 0.9360 - val_loss: 0.2202 - val_accuracy: 0.9268\n",
      "Epoch 22/50\n",
      "2188/2188 [==============================] - 9s 4ms/step - loss: 0.1688 - accuracy: 0.9361 - val_loss: 0.2387 - val_accuracy: 0.9198\n",
      "Epoch 23/50\n",
      "2188/2188 [==============================] - 9s 4ms/step - loss: 0.1672 - accuracy: 0.9367 - val_loss: 0.2304 - val_accuracy: 0.9237\n",
      "Epoch 24/50\n",
      "2188/2188 [==============================] - 9s 4ms/step - loss: 0.1636 - accuracy: 0.9386 - val_loss: 0.2489 - val_accuracy: 0.9123\n",
      "Epoch 25/50\n",
      "2188/2188 [==============================] - 9s 4ms/step - loss: 0.1627 - accuracy: 0.9381 - val_loss: 0.2288 - val_accuracy: 0.9228\n",
      "Epoch 26/50\n",
      "2188/2188 [==============================] - 9s 4ms/step - loss: 0.1639 - accuracy: 0.9381 - val_loss: 0.2529 - val_accuracy: 0.9116\n",
      "Epoch 27/50\n",
      "2188/2188 [==============================] - 9s 4ms/step - loss: 0.1600 - accuracy: 0.9392 - val_loss: 0.2285 - val_accuracy: 0.9277\n",
      "Epoch 28/50\n",
      "2188/2188 [==============================] - 9s 4ms/step - loss: 0.1577 - accuracy: 0.9401 - val_loss: 0.2522 - val_accuracy: 0.9139\n",
      "Epoch 29/50\n",
      "2188/2188 [==============================] - 9s 4ms/step - loss: 0.1555 - accuracy: 0.9413 - val_loss: 0.2542 - val_accuracy: 0.9141\n",
      "Epoch 30/50\n",
      "2188/2188 [==============================] - 9s 4ms/step - loss: 0.1559 - accuracy: 0.9410 - val_loss: 0.2412 - val_accuracy: 0.9191\n",
      "Epoch 31/50\n",
      "2188/2188 [==============================] - 9s 4ms/step - loss: 0.1524 - accuracy: 0.9416 - val_loss: 0.2641 - val_accuracy: 0.9066\n",
      "Epoch 32/50\n",
      "2188/2188 [==============================] - 9s 4ms/step - loss: 0.1539 - accuracy: 0.9417 - val_loss: 0.2647 - val_accuracy: 0.9085\n",
      "Epoch 33/50\n",
      "2188/2188 [==============================] - 9s 4ms/step - loss: 0.1507 - accuracy: 0.9423 - val_loss: 0.2419 - val_accuracy: 0.9247\n",
      "Epoch 34/50\n",
      "2188/2188 [==============================] - 9s 4ms/step - loss: 0.1492 - accuracy: 0.9429 - val_loss: 0.2701 - val_accuracy: 0.9107\n",
      "Epoch 35/50\n",
      "2188/2188 [==============================] - 9s 4ms/step - loss: 0.1483 - accuracy: 0.9432 - val_loss: 0.2284 - val_accuracy: 0.9287\n",
      "Epoch 36/50\n",
      "2188/2188 [==============================] - 9s 4ms/step - loss: 0.1465 - accuracy: 0.9441 - val_loss: 0.2349 - val_accuracy: 0.9287\n",
      "Epoch 37/50\n",
      "2188/2188 [==============================] - 9s 4ms/step - loss: 0.1466 - accuracy: 0.9437 - val_loss: 0.2647 - val_accuracy: 0.9131\n",
      "Epoch 38/50\n",
      "2188/2188 [==============================] - 9s 4ms/step - loss: 0.1453 - accuracy: 0.9442 - val_loss: 0.2580 - val_accuracy: 0.9237\n",
      "Epoch 39/50\n",
      "2188/2188 [==============================] - 9s 4ms/step - loss: 0.1440 - accuracy: 0.9446 - val_loss: 0.2503 - val_accuracy: 0.9261\n",
      "Epoch 40/50\n",
      "2188/2188 [==============================] - 9s 4ms/step - loss: 0.1422 - accuracy: 0.9460 - val_loss: 0.2472 - val_accuracy: 0.9217\n",
      "Epoch 41/50\n",
      "2188/2188 [==============================] - 9s 4ms/step - loss: 0.1419 - accuracy: 0.9454 - val_loss: 0.2558 - val_accuracy: 0.9223\n",
      "Epoch 42/50\n",
      "2188/2188 [==============================] - 9s 4ms/step - loss: 0.1410 - accuracy: 0.9452 - val_loss: 0.2661 - val_accuracy: 0.9174\n",
      "Epoch 43/50\n",
      "2188/2188 [==============================] - 9s 4ms/step - loss: 0.1405 - accuracy: 0.9461 - val_loss: 0.2738 - val_accuracy: 0.9190\n",
      "Epoch 44/50\n",
      "2188/2188 [==============================] - 9s 4ms/step - loss: 0.1395 - accuracy: 0.9466 - val_loss: 0.2469 - val_accuracy: 0.9246\n",
      "Epoch 45/50\n",
      "2188/2188 [==============================] - 9s 4ms/step - loss: 0.1407 - accuracy: 0.9459 - val_loss: 0.2805 - val_accuracy: 0.9078\n",
      "Epoch 46/50\n",
      "2188/2188 [==============================] - 9s 4ms/step - loss: 0.1388 - accuracy: 0.9465 - val_loss: 0.2629 - val_accuracy: 0.9228\n",
      "Epoch 47/50\n",
      "2188/2188 [==============================] - 9s 4ms/step - loss: 0.1380 - accuracy: 0.9474 - val_loss: 0.2812 - val_accuracy: 0.9188\n",
      "Epoch 48/50\n",
      "2188/2188 [==============================] - 9s 4ms/step - loss: 0.1362 - accuracy: 0.9481 - val_loss: 0.2588 - val_accuracy: 0.9228\n",
      "Epoch 49/50\n",
      "2188/2188 [==============================] - 9s 4ms/step - loss: 0.1360 - accuracy: 0.9477 - val_loss: 0.2589 - val_accuracy: 0.9241\n",
      "Epoch 50/50\n",
      "2188/2188 [==============================] - 9s 4ms/step - loss: 0.1342 - accuracy: 0.9479 - val_loss: 0.2695 - val_accuracy: 0.9170\n"
     ]
    }
   ],
   "source": [
    "history = model.fit(train_X,train_Y, epochs=50, batch_size=64, validation_data = (val_X, val_Y),  verbose=1)"
   ]
  },
  {
   "cell_type": "code",
   "execution_count": 21,
   "metadata": {
    "execution": {
     "iopub.execute_input": "2023-01-06T08:39:30.108342Z",
     "iopub.status.busy": "2023-01-06T08:39:30.108084Z",
     "iopub.status.idle": "2023-01-06T08:39:30.347996Z",
     "shell.execute_reply": "2023-01-06T08:39:30.347204Z",
     "shell.execute_reply.started": "2023-01-06T08:39:30.108314Z"
    }
   },
   "outputs": [
    {
     "data": {
      "image/png": "[encoded data removed]",
      "text/plain": [
       "<Figure size 432x288 with 1 Axes>"
      ]
     },
     "metadata": {
      "needs_background": "light"
     },
     "output_type": "display_data"
    }
   ],
   "source": [
    "plt.plot(history.history['accuracy'])\n",
    "plt.plot(history.history['val_accuracy'])\n",
    "plt.title('Training Accuracy vs Validation Accuracy')\n",
    "plt.ylabel('Accuracy')\n",
    "plt.xlabel('Epoch')\n",
    "plt.legend(['Train', 'Validation'], loc='upper left')\n",
    "plt.show()"
   ]
  },
  {
   "cell_type": "code",
   "execution_count": 22,
   "metadata": {
    "execution": {
     "iopub.execute_input": "2023-01-06T08:39:34.710110Z",
     "iopub.status.busy": "2023-01-06T08:39:34.709754Z",
     "iopub.status.idle": "2023-01-06T08:39:34.909877Z",
     "shell.execute_reply": "2023-01-06T08:39:34.909188Z",
     "shell.execute_reply.started": "2023-01-06T08:39:34.710066Z"
    }
   },
   "outputs": [
    {
     "data": {
      "image/png": "[encoded data removed]",
      "text/plain": [
       "<Figure size 432x288 with 1 Axes>"
      ]
     },
     "metadata": {
      "needs_background": "light"
     },
     "output_type": "display_data"
    }
   ],
   "source": [
    "plt.plot(history.history['loss'])\n",
    "plt.plot(history.history['val_loss'])\n",
    "plt.title('Training Loss vs Validation Loss')\n",
    "plt.ylabel('Loss')\n",
    "plt.xlabel('Epoch')\n",
    "plt.legend(['Train', 'Validation'], loc='upper left')\n",
    "plt.show()"
   ]
  },
  {
   "cell_type": "markdown",
   "metadata": {},
   "source": [
    "## Recognition and Post-Processing \n",
    "1. The sort contours function is used to get the correct order of individual characters for correct output extraction. In this case for extracting a single word, a left to right sorting of individual characters is needed.\n",
    "2. The get letters function fetches the list of letters and get word function gets the individual word. "
   ]
  },
  {
   "cell_type": "code",
   "execution_count": 23,
   "metadata": {
    "execution": {
     "iopub.execute_input": "2023-01-06T08:39:38.894993Z",
     "iopub.status.busy": "2023-01-06T08:39:38.894731Z",
     "iopub.status.idle": "2023-01-06T08:39:38.900242Z",
     "shell.execute_reply": "2023-01-06T08:39:38.899580Z",
     "shell.execute_reply.started": "2023-01-06T08:39:38.894964Z"
    }
   },
   "outputs": [],
   "source": [
    "def sort_contours(cnts, method=\"left-to-right\"):\n",
    "    reverse = False\n",
    "    i = 0\n",
    "    if method == \"right-to-left\" or method == \"bottom-to-top\":\n",
    "        reverse = True\n",
    "    if method == \"top-to-bottom\" or method == \"bottom-to-top\":\n",
    "        i = 1\n",
    "    boundingBoxes = [cv2.boundingRect(c) for c in cnts]\n",
    "    (cnts, boundingBoxes) = zip(*sorted(zip(cnts, boundingBoxes),\n",
    "    key=lambda b:b[1][i], reverse=reverse))\n",
    "    \n",
    "    return (cnts, boundingBoxes)"
   ]
  },
  {
   "cell_type": "code",
   "execution_count": 25,
   "metadata": {
    "execution": {
     "iopub.execute_input": "2023-01-06T08:39:43.221087Z",
     "iopub.status.busy": "2023-01-06T08:39:43.220196Z",
     "iopub.status.idle": "2023-01-06T08:39:43.232296Z",
     "shell.execute_reply": "2023-01-06T08:39:43.231591Z",
     "shell.execute_reply.started": "2023-01-06T08:39:43.221039Z"
    }
   },
   "outputs": [],
   "source": [
    "def get_letters(img):\n",
    "    letters = []\n",
    "    total_bbox_cordi = []\n",
    "    image = cv2.imread(img)\n",
    "    gray = cv2.cvtColor(image, cv2.COLOR_BGR2GRAY)\n",
    "    ret,thresh1 = cv2.threshold(gray ,127,255,cv2.THRESH_BINARY_INV)\n",
    "    dilated = cv2.dilate(thresh1, None, iterations=2)\n",
    "\n",
    "    cnts = cv2.findContours(dilated.copy(), cv2.RETR_EXTERNAL,cv2.CHAIN_APPROX_SIMPLE)\n",
    "    cnts = imutils.grab_contours(cnts)\n",
    "    cnts = sort_contours(cnts, method=\"left-to-right\")[0]\n",
    "    \n",
    "    for c in cnts:\n",
    "        if cv2.contourArea(c) > 10:\n",
    "            (x, y, w, h) = cv2.boundingRect(c)\n",
    "            print([x,y,w,h])\n",
    "            single_bbox_cordi = [x,y,w,h]\n",
    "            total_bbox_cordi.append(single_bbox_cordi)\n",
    "            cv2.rectangle(image, (x, y), (x + w, y + h), (0, 255, 0), 2)\n",
    "        roi = gray[y:y + h, x:x + w]\n",
    "        thresh = cv2.threshold(roi, 0, 255,cv2.THRESH_BINARY_INV | cv2.THRESH_OTSU)[1]\n",
    "        thresh = cv2.resize(thresh, (32, 32), interpolation = cv2.INTER_CUBIC)\n",
    "        thresh = thresh.astype(\"float32\") / 255.0\n",
    "        thresh = np.expand_dims(thresh, axis=-1)\n",
    "        thresh = thresh.reshape(1,32,32,1)\n",
    "        ypred = model.predict(thresh)\n",
    "        ypred = LB.inverse_transform(ypred)\n",
    "        [x] = ypred\n",
    "        letters.append(x)\n",
    "    return letters, image, total_bbox_cordi\n",
    "\n"
   ]
  },
  {
   "cell_type": "code",
   "execution_count": 26,
   "metadata": {
    "execution": {
     "iopub.execute_input": "2023-01-06T08:39:45.888264Z",
     "iopub.status.busy": "2023-01-06T08:39:45.887999Z",
     "iopub.status.idle": "2023-01-06T08:39:45.892974Z",
     "shell.execute_reply": "2023-01-06T08:39:45.892094Z",
     "shell.execute_reply.started": "2023-01-06T08:39:45.888234Z"
    }
   },
   "outputs": [],
   "source": [
    "def get_word(letter):\n",
    "    word = \"\".join(letter)\n",
    "    return word"
   ]
  },
  {
   "cell_type": "code",
   "execution_count": 27,
   "metadata": {
    "execution": {
     "iopub.execute_input": "2023-01-06T08:39:47.893943Z",
     "iopub.status.busy": "2023-01-06T08:39:47.893243Z",
     "iopub.status.idle": "2023-01-06T08:39:48.400888Z",
     "shell.execute_reply": "2023-01-06T08:39:48.400197Z",
     "shell.execute_reply.started": "2023-01-06T08:39:47.893906Z"
    }
   },
   "outputs": [
    {
     "name": "stdout",
     "output_type": "stream",
     "text": [
      "[10, 15, 14, 17]\n",
      "[26, 16, 10, 16]\n",
      "[44, 15, 11, 17]\n",
      "[62, 19, 11, 13]\n",
      "[82, 15, 12, 18]\n",
      "BENE5\n",
      "[[10, 15, 14, 17], [26, 16, 10, 16], [44, 15, 11, 17], [62, 19, 11, 13], [82, 15, 12, 18]]\n"
     ]
    },
    {
     "data": {
      "text/plain": [
       "<matplotlib.image.AxesImage at 0x7f6ff83dff10>"
      ]
     },
     "execution_count": 27,
     "metadata": {},
     "output_type": "execute_result"
    },
    {
     "data": {
      "image/png": "[encoded data removed]",
      "text/plain": [
       "<Figure size 432x288 with 1 Axes>"
      ]
     },
     "metadata": {
      "needs_background": "light"
     },
     "output_type": "display_data"
    }
   ],
   "source": [
    "letter,image, total_bbox_cordi = get_letters(\"../input/handwriting-recognition/train_v2/train/TRAIN_00003.jpg\")\n",
    "word = get_word(letter)\n",
    "print(word)\n",
    "print(total_bbox_cordi)\n",
    "plt.imshow(image)"
   ]
  },
  {
   "cell_type": "code",
   "execution_count": 28,
   "metadata": {
    "execution": {
     "iopub.execute_input": "2023-01-06T08:39:51.763676Z",
     "iopub.status.busy": "2023-01-06T08:39:51.763383Z",
     "iopub.status.idle": "2023-01-06T08:39:52.112225Z",
     "shell.execute_reply": "2023-01-06T08:39:52.111582Z",
     "shell.execute_reply.started": "2023-01-06T08:39:51.763642Z"
    }
   },
   "outputs": [
    {
     "name": "stdout",
     "output_type": "stream",
     "text": [
      "[19, 11, 11, 13]\n",
      "[30, 10, 12, 14]\n",
      "[49, 11, 13, 14]\n",
      "[65, 10, 15, 14]\n",
      "[81, 9, 12, 16]\n",
      "LIL0U\n",
      "[[19, 11, 11, 13], [30, 10, 12, 14], [49, 11, 13, 14], [65, 10, 15, 14], [81, 9, 12, 16]]\n"
     ]
    },
    {
     "data": {
      "text/plain": [
       "<matplotlib.image.AxesImage at 0x7f6ff83277d0>"
      ]
     },
     "execution_count": 28,
     "metadata": {},
     "output_type": "execute_result"
    },
    {
     "data": {
      "image/png": "[encoded data removed]",
      "text/plain": [
       "<Figure size 432x288 with 1 Axes>"
      ]
     },
     "metadata": {
      "needs_background": "light"
     },
     "output_type": "display_data"
    }
   ],
   "source": [
    "letter,image,total_bbox_cordi = get_letters(\"../input/handwriting-recognition/train_v2/train/TRAIN_00023.jpg\")\n",
    "word = get_word(letter)\n",
    "print(word)\n",
    "print(total_bbox_cordi)\n",
    "plt.imshow(image)"
   ]
  },
  {
   "cell_type": "code",
   "execution_count": 29,
   "metadata": {
    "execution": {
     "iopub.execute_input": "2023-01-06T08:39:54.921217Z",
     "iopub.status.busy": "2023-01-06T08:39:54.920945Z",
     "iopub.status.idle": "2023-01-06T08:39:55.351890Z",
     "shell.execute_reply": "2023-01-06T08:39:55.351211Z",
     "shell.execute_reply.started": "2023-01-06T08:39:54.921185Z"
    }
   },
   "outputs": [
    {
     "name": "stdout",
     "output_type": "stream",
     "text": [
      "[20, 8, 8, 14]\n",
      "[35, 8, 10, 13]\n",
      "[51, 9, 10, 16]\n",
      "[66, 5, 12, 18]\n",
      "[82, 8, 10, 18]\n",
      "[97, 9, 12, 16]\n",
      "[112, 10, 12, 17]\n",
      "JAFFEUX\n",
      "[[20, 8, 8, 14], [35, 8, 10, 13], [51, 9, 10, 16], [66, 5, 12, 18], [82, 8, 10, 18], [97, 9, 12, 16], [112, 10, 12, 17]]\n"
     ]
    },
    {
     "data": {
      "text/plain": [
       "<matplotlib.image.AxesImage at 0x7f6ff8263ed0>"
      ]
     },
     "execution_count": 29,
     "metadata": {},
     "output_type": "execute_result"
    },
    {
     "data": {
      "image/png": "[encoded data removed]",
      "text/plain": [
       "<Figure size 432x288 with 1 Axes>"
      ]
     },
     "metadata": {
      "needs_background": "light"
     },
     "output_type": "display_data"
    }
   ],
   "source": [
    "letter,image, total_bbox_cordi = get_letters(\"../input/handwriting-recognition/train_v2/train/TRAIN_00030.jpg\")\n",
    "word = get_word(letter)\n",
    "print(word)\n",
    "print(total_bbox_cordi)\n",
    "plt.imshow(image)"
   ]
  },
  {
   "cell_type": "code",
   "execution_count": 30,
   "metadata": {
    "execution": {
     "iopub.execute_input": "2023-01-06T08:39:58.401861Z",
     "iopub.status.busy": "2023-01-06T08:39:58.401600Z",
     "iopub.status.idle": "2023-01-06T08:39:58.728279Z",
     "shell.execute_reply": "2023-01-06T08:39:58.727465Z",
     "shell.execute_reply.started": "2023-01-06T08:39:58.401832Z"
    }
   },
   "outputs": [
    {
     "name": "stdout",
     "output_type": "stream",
     "text": [
      "[18, 8, 13, 19]\n",
      "[33, 9, 12, 18]\n",
      "[50, 8, 14, 18]\n",
      "[65, 7, 15, 18]\n",
      "RUPP\n",
      "[[18, 8, 13, 19], [33, 9, 12, 18], [50, 8, 14, 18], [65, 7, 15, 18]]\n"
     ]
    },
    {
     "data": {
      "text/plain": [
       "<matplotlib.image.AxesImage at 0x7f6ff846b4d0>"
      ]
     },
     "execution_count": 30,
     "metadata": {},
     "output_type": "execute_result"
    },
    {
     "data": {
      "image/png": "[encoded data removed]",
      "text/plain": [
       "<Figure size 432x288 with 1 Axes>"
      ]
     },
     "metadata": {
      "needs_background": "light"
     },
     "output_type": "display_data"
    }
   ],
   "source": [
    "letter,image,total_bbox_cordi = get_letters(\"../input/handwriting-recognition/validation_v2/validation/VALIDATION_0005.jpg\")\n",
    "word = get_word(letter)\n",
    "print(word)\n",
    "print(total_bbox_cordi)\n",
    "plt.imshow(image)"
   ]
  },
  {
   "cell_type": "code",
   "execution_count": 31,
   "metadata": {
    "execution": {
     "iopub.execute_input": "2023-01-06T08:40:03.341907Z",
     "iopub.status.busy": "2023-01-06T08:40:03.341650Z",
     "iopub.status.idle": "2023-01-06T08:40:03.851974Z",
     "shell.execute_reply": "2023-01-06T08:40:03.851277Z",
     "shell.execute_reply.started": "2023-01-06T08:40:03.341878Z"
    }
   },
   "outputs": [
    {
     "name": "stdout",
     "output_type": "stream",
     "text": [
      "[9, 15, 14, 16]\n",
      "[28, 12, 13, 18]\n",
      "[48, 13, 11, 17]\n",
      "[65, 12, 13, 18]\n",
      "[80, 13, 16, 16]\n",
      "[99, 14, 13, 15]\n",
      "[113, 14, 15, 17]\n",
      "[135, 14, 13, 16]\n",
      "[151, 13, 13, 17]\n",
      "VALENTTNE\n",
      "[[9, 15, 14, 16], [28, 12, 13, 18], [48, 13, 11, 17], [65, 12, 13, 18], [80, 13, 16, 16], [99, 14, 13, 15], [113, 14, 15, 17], [135, 14, 13, 16], [151, 13, 13, 17]]\n"
     ]
    },
    {
     "data": {
      "text/plain": [
       "<matplotlib.image.AxesImage at 0x7f6ff8364510>"
      ]
     },
     "execution_count": 31,
     "metadata": {},
     "output_type": "execute_result"
    },
    {
     "data": {
      "image/png": "[encoded data removed]",
      "text/plain": [
       "<Figure size 432x288 with 1 Axes>"
      ]
     },
     "metadata": {
      "needs_background": "light"
     },
     "output_type": "display_data"
    }
   ],
   "source": [
    "letter,image, total_bbox_cordi = get_letters(\"../input/handwriting-recognition/test_v2/test/TEST_0007.jpg\")\n",
    "word = get_word(letter)\n",
    "print(word)\n",
    "print(total_bbox_cordi)\n",
    "plt.imshow(image)"
   ]
  },
  {
   "cell_type": "code",
   "execution_count": 32,
   "metadata": {
    "execution": {
     "iopub.execute_input": "2023-01-06T08:40:07.842942Z",
     "iopub.status.busy": "2023-01-06T08:40:07.842192Z",
     "iopub.status.idle": "2023-01-06T08:40:07.848378Z",
     "shell.execute_reply": "2023-01-06T08:40:07.847698Z",
     "shell.execute_reply.started": "2023-01-06T08:40:07.842905Z"
    }
   },
   "outputs": [
    {
     "data": {
      "text/plain": [
       "['V', 'A', 'L', 'E', 'N', 'T', 'T', 'N', 'E']"
      ]
     },
     "execution_count": 32,
     "metadata": {},
     "output_type": "execute_result"
    }
   ],
   "source": [
    "letter"
   ]
  },
  {
   "cell_type": "code",
   "execution_count": 33,
   "metadata": {
    "execution": {
     "iopub.execute_input": "2023-01-06T08:40:11.139313Z",
     "iopub.status.busy": "2023-01-06T08:40:11.139052Z",
     "iopub.status.idle": "2023-01-06T08:40:11.481853Z",
     "shell.execute_reply": "2023-01-06T08:40:11.481175Z",
     "shell.execute_reply.started": "2023-01-06T08:40:11.139282Z"
    }
   },
   "outputs": [
    {
     "data": {
      "image/png": "[encoded data removed]",
      "text/plain": [
       "<Figure size 1080x720 with 9 Axes>"
      ]
     },
     "metadata": {
      "needs_background": "light"
     },
     "output_type": "display_data"
    }
   ],
   "source": [
    "plt.figure(figsize=(15, 10))\n",
    "for i in range(0,len(total_bbox_cordi)):\n",
    "    ax = plt.subplot(10, 2, i+1)\n",
    "    t =total_bbox_cordi[i]\n",
    "    x_min = t[0]\n",
    "    y_min = t[1]\n",
    "    w_min = t[2]\n",
    "    h_min= t[3]\n",
    "    cropped_image = image[y_min:y_min+h_min, x_min:x_min+w_min]\n",
    "    plt.title(letter[i], fontsize=12)\n",
    "    plt.imshow(cropped_image)\n",
    "    plt.axis('off')\n",
    "plt.subplots_adjust(wspace=0.4, hspace=0.5)"
   ]
  },
  {
   "cell_type": "code",
   "execution_count": 34,
   "metadata": {
    "execution": {
     "iopub.execute_input": "2023-01-06T08:40:15.140025Z",
     "iopub.status.busy": "2023-01-06T08:40:15.139293Z",
     "iopub.status.idle": "2023-01-06T08:40:17.498518Z",
     "shell.execute_reply": "2023-01-06T08:40:17.497714Z",
     "shell.execute_reply.started": "2023-01-06T08:40:15.139989Z"
    }
   },
   "outputs": [
    {
     "name": "stderr",
     "output_type": "stream",
     "text": [
      "2023-01-06 08:40:16.568213: W tensorflow/python/util/util.cc:348] Sets are not currently considered sequences, but this may change in the future, so consider avoiding using them.\n"
     ]
    }
   ],
   "source": [
    "# !mkdir -p saved_model\n",
    "# model.save('saved_model/my_model')\n",
    "model.save('final_model.h5')"
   ]
  },
  {
   "cell_type": "code",
   "execution_count": null,
   "metadata": {
    "execution": {
     "iopub.status.busy": "2023-01-06T07:54:02.545652Z",
     "iopub.status.idle": "2023-01-06T07:54:02.546313Z",
     "shell.execute_reply": "2023-01-06T07:54:02.546089Z",
     "shell.execute_reply.started": "2023-01-06T07:54:02.546064Z"
    }
   },
   "outputs": [],
   "source": []
  }
 ],
 "metadata": {
  "kernelspec": {
   "display_name": "Python 3 (ipykernel)",
   "language": "python",
   "name": "python3"
  },
  "language_info": {
   "codemirror_mode": {
    "name": "ipython",
    "version": 3
   },
   "file_extension": ".py",
   "mimetype": "text/x-python",
   "name": "python",
   "nbconvert_exporter": "python",
   "pygments_lexer": "ipython3",
   "version": "3.7.9"
  }
 },
 "nbformat": 4,
 "nbformat_minor": 4
}
